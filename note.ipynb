{
 "cells": [
  {
   "attachments": {},
   "cell_type": "markdown",
   "metadata": {},
   "source": [
    "# Note"
   ]
  },
  {
   "attachments": {},
   "cell_type": "markdown",
   "metadata": {},
   "source": [
    "This note is used to record learning process as well as the relevant dependency packages for tensorflow. "
   ]
  },
  {
   "attachments": {},
   "cell_type": "markdown",
   "metadata": {},
   "source": [
    "## helpful packages for tensorflow"
   ]
  },
  {
   "attachments": {},
   "cell_type": "markdown",
   "metadata": {},
   "source": [
    "tensorflow extended (TFX)"
   ]
  },
  {
   "attachments": {},
   "cell_type": "markdown",
   "metadata": {},
   "source": [
    "## Tensorflow learning note"
   ]
  },
  {
   "attachments": {},
   "cell_type": "markdown",
   "metadata": {},
   "source": [
    "### 18062023\n",
    "1. copy & paste tf basic crash tutorial for beginner, from https://www.tensorflow.org/tutorials/quickstart/beginner?hl=zh-cn\n",
    "   1. how to load, split and preprocess dataset\n",
    "   2. the process of training, validation and testing, and related code"
   ]
  },
  {
   "attachments": {},
   "cell_type": "markdown",
   "metadata": {},
   "source": [
    "2. copy & paste tf quickstart tutorial for expert, from https://www.tensorflow.org/tutorials/quickstart/advanced?hl=zh-cn\n",
    "   1. Keras works as moduling model\n",
    "      1. loss function module: 'tf.keras.losses'\n",
    "      2. optimizer module: 'tf.keras.optimizers'\n",
    "      3. metrics module: 'tf.keras.metrics'\n",
    "\n",
    "Q:\n",
    "\n",
    "1 what is '@tf.function'\n",
    "\n",
    "2 how can i output accuracy on each step\n",
    "\n",
    "3 how can i understand train step, including gradient ?\n",
    "\n",
    "4 how to use tensorflow to record the data and visualize them\n",
    "\n",
    "5 what is 'reset_states'"
   ]
  },
  {
   "attachments": {},
   "cell_type": "markdown",
   "metadata": {},
   "source": [
    "## 19062023\n",
    "1. learn tf basic implementation from https://tensorflow.google.cn/guide/eager?hl=zh-cn\n",
    "   1. tensorflow basic knowledge\n",
    "   2. Keras basic knowledge\n",
    "\n",
    "2. basic image classification from https://www.tensorflow.org/tutorials/keras/classification\n",
    "3. basic text classification from https://www.tensorflow.org/tutorials/keras/text_classification"
   ]
  }
 ],
 "metadata": {
  "language_info": {
   "name": "python"
  },
  "orig_nbformat": 4
 },
 "nbformat": 4,
 "nbformat_minor": 2
}
