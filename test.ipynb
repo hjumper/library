{
 "cells": [
  {
   "cell_type": "code",
   "execution_count": 1,
   "metadata": {},
   "outputs": [],
   "source": [
    "import pandas as pd"
   ]
  },
  {
   "cell_type": "code",
   "execution_count": 2,
   "metadata": {},
   "outputs": [],
   "source": [
    "dpth_2016 = r\"E:\\my_project\\first\\library\\2016merge.dta\" \n",
    "dpth_2018 = r\"E:\\my_project\\first\\library\\2018merge.dta\" \n",
    "dpth_2020 = r\"E:\\my_project\\first\\library\\2020 merge.dta\" \n"
   ]
  },
  {
   "cell_type": "code",
   "execution_count": 3,
   "metadata": {},
   "outputs": [],
   "source": [
    "d2016 = pd.read_stata(dpth_2016)\n",
    "d2016.pid = d2016.pid.apply(int).apply(str)\n",
    "d2018 = pd.read_stata(dpth_2018)\n",
    "d2018.pid = d2018.pid.apply(int).apply(str)\n",
    "\n",
    "d2020 = pd.read_stata(dpth_2020)\n",
    "d2020.pid = d2020.pid.apply(int).apply(str)\n"
   ]
  },
  {
   "cell_type": "code",
   "execution_count": 4,
   "metadata": {},
   "outputs": [
    {
     "data": {
      "text/plain": [
       "10687"
      ]
     },
     "execution_count": 4,
     "metadata": {},
     "output_type": "execute_result"
    }
   ],
   "source": [
    "mask20162018 = d2016.pid.isin(d2018.pid)\n",
    "mask20162020 = d2016.pid.isin(d2020.pid)\n",
    "mask = mask20162018 & mask20162020\n",
    "sum(mask)"
   ]
  },
  {
   "cell_type": "code",
   "execution_count": 5,
   "metadata": {},
   "outputs": [
    {
     "data": {
      "text/plain": [
       "0        100051501\n",
       "1        120009102\n",
       "4        130281103\n",
       "6        130299106\n",
       "7        130492103\n",
       "           ...    \n",
       "27488    211801103\n",
       "27494    410343105\n",
       "27495    410343103\n",
       "27511    620988103\n",
       "27515    520423105\n",
       "Name: pid, Length: 10687, dtype: category\n",
       "Categories (27517, object): ['100051501' < '101129501' < '108211501' < '109137501' ... '979587501' < '985074433' < '995587431' < '1554992501']"
      ]
     },
     "execution_count": 5,
     "metadata": {},
     "output_type": "execute_result"
    }
   ],
   "source": [
    "pid2016 = d2016.pid[mask]\n",
    "pid2016"
   ]
  },
  {
   "cell_type": "code",
   "execution_count": 6,
   "metadata": {},
   "outputs": [],
   "source": [
    "d2016f = d2016[mask]\n",
    "d2018f = d2018[d2018.pid.isin(d2016.pid[mask]) ]\n",
    "d2020f = d2020[d2020.pid.isin(d2016.pid[mask]) ]\n"
   ]
  },
  {
   "cell_type": "code",
   "execution_count": 8,
   "metadata": {},
   "outputs": [],
   "source": [
    "d2016f.to_excel(r\"E:\\my_project\\first\\library\\2016filter.xlsx\")\n",
    "d2018f.to_excel(r\"E:\\my_project\\first\\library\\2018filter.xlsx\")\n",
    "d2020f.to_excel(r\"E:\\my_project\\first\\library\\2020filter.xlsx\")"
   ]
  },
  {
   "cell_type": "code",
   "execution_count": 28,
   "metadata": {},
   "outputs": [],
   "source": [
    "import pyreadstat\n",
    "pyreadstat.write_dta(d2016f, r\"E:/my_project/first/library/2016filter.dta\")\n",
    "pyreadstat.write_dta(d2018f, r\"E:/my_project/first/library/2018filter.dta\")\n",
    "pyreadstat.write_dta(d2020f, r\"E:/my_project/first/library/2020filter.dta\")\n"
   ]
  },
  {
   "cell_type": "code",
   "execution_count": 11,
   "metadata": {},
   "outputs": [
    {
     "data": {
      "text/plain": [
       "10687"
      ]
     },
     "execution_count": 11,
     "metadata": {},
     "output_type": "execute_result"
    }
   ],
   "source": [
    "len(d2020f)"
   ]
  }
 ],
 "metadata": {
  "kernelspec": {
   "display_name": "venv",
   "language": "python",
   "name": "python3"
  },
  "language_info": {
   "codemirror_mode": {
    "name": "ipython",
    "version": 3
   },
   "file_extension": ".py",
   "mimetype": "text/x-python",
   "name": "python",
   "nbconvert_exporter": "python",
   "pygments_lexer": "ipython3",
   "version": "3.9.0"
  },
  "orig_nbformat": 4
 },
 "nbformat": 4,
 "nbformat_minor": 2
}
